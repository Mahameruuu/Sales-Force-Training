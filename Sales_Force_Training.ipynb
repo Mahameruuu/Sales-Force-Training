{
 "cells": [
  {
   "cell_type": "code",
   "execution_count": 1,
   "metadata": {},
   "outputs": [],
   "source": [
    "import pandas as pd \n",
    "import scipy.stats as stats"
   ]
  },
  {
   "cell_type": "code",
   "execution_count": 2,
   "metadata": {},
   "outputs": [],
   "source": [
    "# Data Transactions Amount\n",
    "data = [100, 150, 50, 100, 130, 120, 100, 85, 70, 150, 150, 120, 50, 100, 100, \n",
    "        140, 90, 150, 50, 90, 120, 100, 110, 75, 65]"
   ]
  },
  {
   "cell_type": "code",
   "execution_count": 3,
   "metadata": {},
   "outputs": [],
   "source": [
    "# Membuat DataFrame\n",
    "df = pd.DataFrame(data, columns=['TransactionAmount'])"
   ]
  },
  {
   "cell_type": "code",
   "execution_count": 4,
   "metadata": {},
   "outputs": [],
   "source": [
    "# Analisis Measure of Central Tendency \n",
    "\n",
    "mean_value = df['TransactionAmount'].mean()\n",
    "median_value = df['TransactionAmount'].median()\n",
    "mode_value = df['TransactionAmount'].mode()[0]"
   ]
  },
  {
   "cell_type": "code",
   "execution_count": 5,
   "metadata": {},
   "outputs": [],
   "source": [
    "# Analisis Measure of Variability \n",
    "\n",
    "range_value = df['TransactionAmount'].max() - df['TransactionAmount'].min()\n",
    "variance_value = df['TransactionAmount'].var()\n",
    "std_deviation_value = df['TransactionAmount'].std()"
   ]
  },
  {
   "cell_type": "markdown",
   "metadata": {},
   "source": [
    "Menentukan Hipotesis\n",
    "\n",
    "H0: Rata-rata transaksi sama dengan $100\n",
    "\n",
    "H1: Rata-rata transaksi tidak sama dengan $100"
   ]
  },
  {
   "cell_type": "code",
   "execution_count": 6,
   "metadata": {},
   "outputs": [],
   "source": [
    "#Menentukan Hipotesis\n",
    "# H0: Rata-rata transaksi sama dengan $100\n",
    "# H1: Rata-rata transaksi tidak sama dengan $100"
   ]
  },
  {
   "cell_type": "markdown",
   "metadata": {},
   "source": [
    "# Melakukan T-Test"
   ]
  },
  {
   "cell_type": "markdown",
   "metadata": {},
   "source": [
    "Populasi mean (μ) = 100"
   ]
  },
  {
   "cell_type": "code",
   "execution_count": 7,
   "metadata": {},
   "outputs": [],
   "source": [
    "pop_mean = 100\n",
    "t_statistic, p_value = stats.ttest_1samp(df['TransactionAmount'], pop_mean)"
   ]
  },
  {
   "cell_type": "markdown",
   "metadata": {},
   "source": [
    "# Menampilkan hasil analisis"
   ]
  },
  {
   "cell_type": "code",
   "execution_count": 8,
   "metadata": {},
   "outputs": [
    {
     "name": "stdout",
     "output_type": "stream",
     "text": [
      "Measure of Central Tendency:\n",
      "Mean: 102.6\n",
      "Median: 100.0\n",
      "Mode: 100\n"
     ]
    }
   ],
   "source": [
    "print(\"Measure of Central Tendency:\")\n",
    "print(f\"Mean: {mean_value}\")\n",
    "print(f\"Median: {median_value}\")\n",
    "print(f\"Mode: {mode_value}\")"
   ]
  },
  {
   "cell_type": "code",
   "execution_count": 9,
   "metadata": {},
   "outputs": [
    {
     "name": "stdout",
     "output_type": "stream",
     "text": [
      "\n",
      "Measure of Variability:\n",
      "Range: 100\n",
      "Variance: 1012.7499999999999\n",
      "Standard Deviation: 31.823733281939123\n"
     ]
    }
   ],
   "source": [
    "print(\"\\nMeasure of Variability:\")\n",
    "print(f\"Range: {range_value}\")\n",
    "print(f\"Variance: {variance_value}\")\n",
    "print(f\"Standard Deviation: {std_deviation_value}\")"
   ]
  },
  {
   "cell_type": "code",
   "execution_count": 10,
   "metadata": {},
   "outputs": [
    {
     "name": "stdout",
     "output_type": "stream",
     "text": [
      "\n",
      "T-Test Result:\n",
      "T-Statistic: 0.4085001556802841\n",
      "P-Value: 0.6865284813438117\n"
     ]
    }
   ],
   "source": [
    "print(\"\\nT-Test Result:\")\n",
    "print(f\"T-Statistic: {t_statistic}\")\n",
    "print(f\"P-Value: {p_value}\")"
   ]
  },
  {
   "cell_type": "markdown",
   "metadata": {},
   "source": [
    "# Kesimpulan "
   ]
  },
  {
   "cell_type": "code",
   "execution_count": 12,
   "metadata": {},
   "outputs": [
    {
     "name": "stdout",
     "output_type": "stream",
     "text": [
      "\n",
      "Tidak terdapat perbedaan yang signifikan antara rata-rata transaksi setelah training dengan rata-rata $100.\n"
     ]
    }
   ],
   "source": [
    "alpha = 0.05\n",
    "if p_value < alpha:\n",
    "    print(\"\\nTerdapat perbedaan yang signifikan antara rata-rata transaksi setelah training dengan rata-rata $100.\")\n",
    "else:\n",
    "    print(\"\\nTidak terdapat perbedaan yang signifikan antara rata-rata transaksi setelah training dengan rata-rata $100.\")"
   ]
  }
 ],
 "metadata": {
  "kernelspec": {
   "display_name": "Python 3",
   "language": "python",
   "name": "python3"
  },
  "language_info": {
   "codemirror_mode": {
    "name": "ipython",
    "version": 3
   },
   "file_extension": ".py",
   "mimetype": "text/x-python",
   "name": "python",
   "nbconvert_exporter": "python",
   "pygments_lexer": "ipython3",
   "version": "3.11.9"
  }
 },
 "nbformat": 4,
 "nbformat_minor": 2
}
